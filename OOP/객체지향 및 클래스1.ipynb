{
 "cells": [
  {
   "cell_type": "code",
   "execution_count": 1,
   "metadata": {},
   "outputs": [],
   "source": [
    "class Character(object):\n",
    "    def __init__(self, name, health, damage, inventory):\n",
    "        self.name = name\n",
    "        self.health = health\n",
    "        self.damage = damage\n",
    "        self.inventory = inventory\n",
    "        \n",
    "    def __repr__(self):\n",
    "        return self.name"
   ]
  },
  {
   "cell_type": "code",
   "execution_count": 2,
   "metadata": {},
   "outputs": [],
   "source": [
    "heroes = []\n",
    "heroes.append(Character('아이언맨',100,200,{'gold':500, 'weapon': '레이저'}))\n",
    "heroes.append(Character('데드풀',300,30,{'gold':300, 'weapon':'장검'}))\n",
    "heroes.append(Character('울버린',200,50,{'gold':350, 'weapon':'클로'}))"
   ]
  },
  {
   "cell_type": "code",
   "execution_count": 3,
   "metadata": {},
   "outputs": [
    {
     "data": {
      "text/plain": [
       "[아이언맨, 데드풀, 울버린]"
      ]
     },
     "execution_count": 3,
     "metadata": {},
     "output_type": "execute_result"
    }
   ],
   "source": [
    "heroes"
   ]
  },
  {
   "cell_type": "code",
   "execution_count": 5,
   "metadata": {},
   "outputs": [
    {
     "data": {
      "text/plain": [
       "아이언맨"
      ]
     },
     "execution_count": 5,
     "metadata": {},
     "output_type": "execute_result"
    }
   ],
   "source": [
    "heroes[0]"
   ]
  },
  {
   "cell_type": "code",
   "execution_count": 6,
   "metadata": {},
   "outputs": [],
   "source": [
    "del heroes[0]"
   ]
  },
  {
   "cell_type": "code",
   "execution_count": 8,
   "metadata": {},
   "outputs": [
    {
     "data": {
      "text/plain": [
       "[데드풀, 울버린]"
      ]
     },
     "execution_count": 8,
     "metadata": {},
     "output_type": "execute_result"
    }
   ],
   "source": [
    "heroes"
   ]
  },
  {
   "cell_type": "code",
   "execution_count": 10,
   "metadata": {},
   "outputs": [
    {
     "data": {
      "text/plain": [
       "데드풀"
      ]
     },
     "execution_count": 10,
     "metadata": {},
     "output_type": "execute_result"
    }
   ],
   "source": [
    "heroes[0]"
   ]
  },
  {
   "cell_type": "code",
   "execution_count": 19,
   "metadata": {},
   "outputs": [
    {
     "name": "stdout",
     "output_type": "stream",
     "text": [
      "300\n",
      "30\n",
      "{'gold': 300, 'weapon': '장검'}\n"
     ]
    }
   ],
   "source": [
    "print(heroes[0].health)\n",
    "print(heroes[0].damage)\n",
    "print(heroes[0].inventory)"
   ]
  },
  {
   "cell_type": "code",
   "execution_count": 24,
   "metadata": {},
   "outputs": [
    {
     "data": {
      "text/plain": [
       "'장검'"
      ]
     },
     "execution_count": 24,
     "metadata": {},
     "output_type": "execute_result"
    }
   ],
   "source": [
    "heroes[0].inventory['weapon']"
   ]
  },
  {
   "cell_type": "markdown",
   "metadata": {},
   "source": [
    "___"
   ]
  },
  {
   "cell_type": "code",
   "execution_count": 29,
   "metadata": {},
   "outputs": [
    {
     "name": "stdout",
     "output_type": "stream",
     "text": [
      "홍길동, 3학년 1반 77번\n"
     ]
    }
   ],
   "source": [
    "class Student(object):\n",
    "    def __init__(self, name, year, class_num, student_id):\n",
    "        self.name = name\n",
    "        self.year = year\n",
    "        self.class_num = class_num\n",
    "        self.student_id = student_id\n",
    "        \n",
    "    def introduce_myself(self):\n",
    "        return '{}, {}학년 {}반 {}번'.format(self.name, self.year, self.class_num, self.student_id)\n",
    "    \n",
    "student = Student('홍길동',3,1,77)\n",
    "print(student.introduce_myself())"
   ]
  },
  {
   "cell_type": "markdown",
   "metadata": {},
   "source": [
    "모듈로 만들기(외부에 py파일 생성)"
   ]
  },
  {
   "cell_type": "code",
   "execution_count": 37,
   "metadata": {},
   "outputs": [
    {
     "name": "stdout",
     "output_type": "stream",
     "text": [
      "예리, 3학년 5반 1번\n"
     ]
    }
   ],
   "source": [
    "import student_intro as stin\n",
    "\n",
    "st1 = stin.Student('예리',3,5,1)\n",
    "print(st1.introduce_myself())"
   ]
  },
  {
   "cell_type": "markdown",
   "metadata": {},
   "source": [
    "---"
   ]
  },
  {
   "cell_type": "code",
   "execution_count": 51,
   "metadata": {},
   "outputs": [
    {
     "name": "stdout",
     "output_type": "stream",
     "text": [
      "['__add__', '__class__', '__contains__', '__delattr__', '__dir__', '__doc__', '__eq__', '__format__', '__ge__', '__getattribute__', '__getitem__', '__getnewargs__', '__gt__', '__hash__', '__init__', '__init_subclass__', '__iter__', '__le__', '__len__', '__lt__', '__mod__', '__mul__', '__ne__', '__new__', '__reduce__', '__reduce_ex__', '__repr__', '__rmod__', '__rmul__', '__setattr__', '__sizeof__', '__str__', '__subclasshook__', 'capitalize', 'casefold', 'center', 'count', 'encode', 'endswith', 'expandtabs', 'find', 'format', 'format_map', 'index', 'isalnum', 'isalpha', 'isascii', 'isdecimal', 'isdigit', 'isidentifier', 'islower', 'isnumeric', 'isprintable', 'isspace', 'istitle', 'isupper', 'join', 'ljust', 'lower', 'lstrip', 'maketrans', 'partition', 'replace', 'rfind', 'rindex', 'rjust', 'rpartition', 'rsplit', 'rstrip', 'split', 'splitlines', 'startswith', 'strip', 'swapcase', 'title', 'translate', 'upper', 'zfill']\n"
     ]
    }
   ],
   "source": [
    "text = 'string'\n",
    "print(dir(text))"
   ]
  },
  {
   "cell_type": "code",
   "execution_count": 55,
   "metadata": {},
   "outputs": [
    {
     "name": "stdout",
     "output_type": "stream",
     "text": [
      "<class 'str'>\n",
      "True\n",
      "STRING\n"
     ]
    }
   ],
   "source": [
    "print(text.__class__)\n",
    "print(isinstance(text, str))\n",
    "print(text.upper())"
   ]
  },
  {
   "cell_type": "markdown",
   "metadata": {},
   "source": [
    "- 클래스 확인\n",
    "- str의 인스턴스인지 확인\n",
    "- 메소드 확인"
   ]
  },
  {
   "cell_type": "markdown",
   "metadata": {},
   "source": [
    "---"
   ]
  },
  {
   "cell_type": "code",
   "execution_count": 58,
   "metadata": {},
   "outputs": [
    {
     "name": "stdout",
     "output_type": "stream",
     "text": [
      "<인스턴스 다른거 확인>\n",
      "2090890109448\n",
      "2090890111688\n",
      "<같은 클래스 확인>\n",
      "2090869134216\n",
      "2090869134216\n"
     ]
    }
   ],
   "source": [
    "class Employee(object):\n",
    "    pass\n",
    "\n",
    "emp_1 = Employee()\n",
    "emp_2 = Employee()\n",
    "\n",
    "print(\"<인스턴스 다른거 확인>\")\n",
    "print(id(emp_1))\n",
    "print(id(emp_2))\n",
    "\n",
    "class_of_emp_1 = emp_1.__class__\n",
    "class_of_emp_2 = emp_2.__class__\n",
    "print(\"<같은 클래스 확인>\")\n",
    "print(id(class_of_emp_1))\n",
    "print(id(class_of_emp_2))"
   ]
  },
  {
   "cell_type": "markdown",
   "metadata": {},
   "source": [
    "Employee라는 클래스를 만들고 emp_1와 emp_2 인스턴스 생성"
   ]
  },
  {
   "cell_type": "code",
   "execution_count": 60,
   "metadata": {},
   "outputs": [],
   "source": [
    "class Employee(object):\n",
    "    def __init__(self, first, last, pay):\n",
    "        self.first = first\n",
    "        self.last = last\n",
    "        self.pay = pay\n",
    "        self.email = first.lower() + '.' + last.lower() + '@naver.com'\n",
    "        \n",
    "    def full_name(self): # <<-------self 잊지말자\n",
    "        return '{} {}'.format(self.first, self.last)"
   ]
  },
  {
   "cell_type": "code",
   "execution_count": 61,
   "metadata": {},
   "outputs": [
    {
     "name": "stdout",
     "output_type": "stream",
     "text": [
      "Sanghee Lee\n"
     ]
    }
   ],
   "source": [
    "emp_1 = Employee('Sanghee', 'Lee', 50000)\n",
    "emp_2 = Employee('Minjung', 'Kim', 60000)\n",
    "\n",
    "print(Employee.full_name(emp_1))"
   ]
  },
  {
   "cell_type": "markdown",
   "metadata": {},
   "source": [
    "---"
   ]
  },
  {
   "cell_type": "code",
   "execution_count": 67,
   "metadata": {},
   "outputs": [
    {
     "name": "stdout",
     "output_type": "stream",
     "text": [
      "이전 연봉:50000\n",
      "상승 연봉:55000\n"
     ]
    }
   ],
   "source": [
    "class Employee(object):\n",
    "    \n",
    "    raise_amount = 1.1\n",
    "    \n",
    "    def __init__(self, first, last, pay):\n",
    "        self.first = first\n",
    "        self.last = last\n",
    "        self.pay = pay\n",
    "        self.email = first.lower() + '.' + last.lower() + '@naver.com'\n",
    "        \n",
    "    def full_name(self):\n",
    "        return '{} {}'.format(self.first, self.last)\n",
    "    \n",
    "    def apply_raise(self):\n",
    "        self.pay = int(self.pay * self.raise_amount) # Employee.raise_amount 라고 하면 클래스 네임스페이스로 가서 찾음\n",
    "        # self.raise_amount는 인스턴스 -> 클래스 -> 수퍼 클래스 순으로 찾음\n",
    "        \n",
    "emp_1 = Employee('Sanghee', 'Lee', 50000)\n",
    "emp_2 = Employee('Minjung', 'Kim', 60000)\n",
    "\n",
    "print(\"이전 연봉:{}\".format(emp_1.pay))\n",
    "emp_1.apply_raise()\n",
    "print(\"상승 연봉:{}\".format(emp_1.pay))"
   ]
  },
  {
   "cell_type": "code",
   "execution_count": 70,
   "metadata": {},
   "outputs": [
    {
     "name": "stdout",
     "output_type": "stream",
     "text": [
      "인스턴스 네임스페이스에 있는 변수입니다.\n",
      "클래스 네임스페이스에 있는 변수입니다.\n",
      "수퍼 네임스페이스에 있는 변수입니다.\n",
      "클래스 네임스페이스에 있는 변수입니다.\n",
      "수퍼 네임스페이스에 있는 변수입니다.\n",
      "수퍼 네임스페이스에 있는 변수입니다.\n",
      "------------------------------\n",
      "class_var를 찾을 수가 없습니다...\n",
      "instance_var를 찾을 수가 없습니다...\n"
     ]
    }
   ],
   "source": [
    "class SuperClass(object):\n",
    "    super_var = '수퍼 네임스페이스에 있는 변수입니다.'\n",
    "\n",
    "class MyClass(SuperClass):\n",
    "    class_var = '클래스 네임스페이스에 있는 변수입니다.'\n",
    "    \n",
    "    def __init__(self):\n",
    "        self.instance_var = '인스턴스 네임스페이스에 있는 변수입니다.'\n",
    "    \n",
    "\n",
    "my_instance = MyClass()\n",
    "\n",
    "# 엑세스 가능한 경우\n",
    "print(my_instance.instance_var)\n",
    "print(my_instance.class_var)\n",
    "print(my_instance.super_var)\n",
    "print(MyClass.class_var)\n",
    "print(MyClass.super_var)\n",
    "print(SuperClass.super_var)\n",
    "print('-'*30)\n",
    "      \n",
    "try:\n",
    "    print( SuperClass.class_var)\n",
    "except:\n",
    "    print( 'class_var를 찾을 수가 없습니다...')\n",
    "    \n",
    "try:\n",
    "    print( MyClass.instance_var)\n",
    "except:\n",
    "    print( 'instance_var를 찾을 수가 없습니다...')"
   ]
  },
  {
   "cell_type": "code",
   "execution_count": 71,
   "metadata": {},
   "outputs": [
    {
     "name": "stdout",
     "output_type": "stream",
     "text": [
      "0\n",
      "2\n",
      "0\n"
     ]
    }
   ],
   "source": [
    "class Employee(object):\n",
    "    \n",
    "    raise_amount = 1.1\n",
    "    num_of_emps = 0\n",
    "    \n",
    "    def __init__(self, first, last, pay):\n",
    "        self.first = first\n",
    "        self.last = last\n",
    "        self.pay = pay\n",
    "        self.email = first.lower() + '.' + last.lower() + '@schoolofweb.net'\n",
    "        \n",
    "        Employee.num_of_emps += 1\n",
    "        \n",
    "    def __del__(self):\n",
    "        Employee.num_of_emps -= 1\n",
    "        \n",
    "    def full_name(self):\n",
    "        return '{} {}'.format(self.first, self.last)\n",
    "    \n",
    "    def apply_raise(self):\n",
    "        self.pay = int(self.pay * self.raise_amount)\n",
    "        \n",
    "print( Employee.num_of_emps)  # 처음 직원 수\n",
    "emp_1 = Employee('Sanghee', 'Lee', 50000)  # 직원 1명 입사 \n",
    "emp_2 = Employee('Minjung', 'Kim', 60000)  # 직원 1명 입사\n",
    "print( Employee.num_of_emps)  # 직원 수 확인\n",
    "\n",
    "del emp_1  # 직원 1명 퇴사\n",
    "del emp_2  # 직원 1명 퇴사\n",
    "print( Employee.num_of_emps)  # 직원 수 확인"
   ]
  }
 ],
 "metadata": {
  "kernelspec": {
   "display_name": "Python 3",
   "language": "python",
   "name": "python3"
  },
  "language_info": {
   "codemirror_mode": {
    "name": "ipython",
    "version": 3
   },
   "file_extension": ".py",
   "mimetype": "text/x-python",
   "name": "python",
   "nbconvert_exporter": "python",
   "pygments_lexer": "ipython3",
   "version": "3.7.3"
  }
 },
 "nbformat": 4,
 "nbformat_minor": 2
}
