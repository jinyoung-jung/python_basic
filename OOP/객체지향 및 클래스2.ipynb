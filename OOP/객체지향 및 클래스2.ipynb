{
 "cells": [
  {
   "cell_type": "markdown",
   "metadata": {},
   "source": [
    "**클래스 메소드와 스태틱 메소드**"
   ]
  },
  {
   "cell_type": "code",
   "execution_count": 2,
   "metadata": {},
   "outputs": [
    {
     "name": "stdout",
     "output_type": "stream",
     "text": [
      "현재 \"Sanghee Lee\"의 연봉은 \"50000\"입니다.\n",
      "현재 \"Minjung Kim\"의 연봉은 \"60000\"입니다.\n",
      "현재 \"Sanghee Lee\"의 연봉은 \"55000\"입니다.\n",
      "현재 \"Minjung Kim\"의 연봉은 \"66000\"입니다.\n"
     ]
    }
   ],
   "source": [
    "class Employee(object):\n",
    "    \n",
    "    raise_amount = 1.1\n",
    "    \n",
    "    def __init__(self, first, last, pay):\n",
    "        self.first = first\n",
    "        self.last = last\n",
    "        self.pay = pay\n",
    "        self.email = first.lower() + '.' + last.lower() + '@naver.com'\n",
    "        \n",
    "    def apply_raise(self):\n",
    "        self.pay = int(self.pay * self.raise_amount)\n",
    "        \n",
    "    def full_name(self):\n",
    "        return '{} {}'.format(self.first, self.last)\n",
    "    \n",
    "    def get_pay(self):\n",
    "        return '현재 \"{}\"의 연봉은 \"{}\"입니다.'.format(self.full_name(), self.pay)\n",
    "    \n",
    "emp_1 = Employee('Sanghee', 'Lee', 50000)\n",
    "emp_2 = Employee('Minjung', 'Kim', 60000)\n",
    "\n",
    "# 연봉 인상 전\n",
    "print(emp_1.get_pay())\n",
    "print(emp_2.get_pay())\n",
    "\n",
    "# 연봉 인상\n",
    "emp_1.apply_raise()\n",
    "emp_2.apply_raise()\n",
    "\n",
    "# 연봉 인상 후\n",
    "print(emp_1.get_pay())\n",
    "print(emp_2.get_pay())"
   ]
  },
  {
   "cell_type": "code",
   "execution_count": 7,
   "metadata": {},
   "outputs": [
    {
     "name": "stdout",
     "output_type": "stream",
     "text": [
      "현재 \"Sanghee Lee\"의 연봉은 \"50000\"입니다.\n",
      "현재 \"Minjung Kim\"의 연봉은 \"60000\"입니다.\n",
      "인상률이 1보다 작을 수는 없다. 올려다오.\n",
      "재입력: \n",
      "=> .5\n",
      "인상률이 1보다 작을 수는 없다. 올려다오.\n",
      "재입력: \n",
      "=> .3\n",
      "인상률이 1보다 작을 수는 없다. 올려다오.\n",
      "재입력: \n",
      "=> 3\n",
      "인상률 3.0가 적용 됨\n",
      "현재 \"Sanghee Lee\"의 연봉은 \"150000\"입니다.\n",
      "현재 \"Minjung Kim\"의 연봉은 \"180000\"입니다.\n"
     ]
    }
   ],
   "source": [
    "class Employee(object):\n",
    "    \n",
    "    raise_amount = 1.1  # 연봉 인상율 클래스 변수\n",
    "    \n",
    "    def __init__(self, first, last, pay):\n",
    "        self.first = first\n",
    "        self.last = last\n",
    "        self.pay = pay\n",
    "    \n",
    "    def apply_raise(self):\n",
    "        self.pay = int(self.pay * self.raise_amount)\n",
    "        \n",
    "    def full_name(self):\n",
    "        return '{} {}'.format(self.first, self.last)\n",
    "        \n",
    "    def get_pay(self):\n",
    "        return '현재 \"{}\"의 연봉은 \"{}\"입니다.'.format(self.full_name(), self.pay)\n",
    "    \n",
    "    #1 클래스 메소드 데코레이터를 사용하여 클래스 메소드 정의\n",
    "    @classmethod\n",
    "    def change_raise_amount(cls, amount):\n",
    "        #2 인상율이 \"1\" 보다 작으면 재입력 요청\n",
    "        while amount < 1:\n",
    "            print('인상률이 1보다 작을 수는 없다. 올려다오.')\n",
    "            amount = input('재입력: \\n=> ')\n",
    "            amount = float(amount)\n",
    "        cls.raise_amount = amount\n",
    "        print(\"인상률 {}가 적용 됨\".format(amount))\n",
    "        \n",
    "emp_1 = Employee('Sanghee', 'Lee', 50000)\n",
    "emp_2 = Employee('Minjung', 'Kim', 60000)\n",
    "\n",
    "# 연봉 인상 전\n",
    "print(emp_1.get_pay())\n",
    "print(emp_2.get_pay())\n",
    "\n",
    "Employee.change_raise_amount(.4)\n",
    "\n",
    "# 연봉 인상\n",
    "emp_1.apply_raise()\n",
    "emp_2.apply_raise()\n",
    "\n",
    "# 연봉 인상 후\n",
    "print(emp_1.get_pay())\n",
    "print(emp_2.get_pay())"
   ]
  },
  {
   "cell_type": "code",
   "execution_count": 12,
   "metadata": {},
   "outputs": [
    {
     "data": {
      "text/plain": [
       "['__class__',\n",
       " '__delattr__',\n",
       " '__dict__',\n",
       " '__dir__',\n",
       " '__doc__',\n",
       " '__eq__',\n",
       " '__format__',\n",
       " '__ge__',\n",
       " '__getattribute__',\n",
       " '__gt__',\n",
       " '__hash__',\n",
       " '__init__',\n",
       " '__init_subclass__',\n",
       " '__le__',\n",
       " '__lt__',\n",
       " '__module__',\n",
       " '__ne__',\n",
       " '__new__',\n",
       " '__reduce__',\n",
       " '__reduce_ex__',\n",
       " '__repr__',\n",
       " '__setattr__',\n",
       " '__sizeof__',\n",
       " '__str__',\n",
       " '__subclasshook__',\n",
       " '__weakref__',\n",
       " 'apply_raise',\n",
       " 'change_raise_amount',\n",
       " 'full_name',\n",
       " 'get_pay',\n",
       " 'raise_amount']"
      ]
     },
     "execution_count": 12,
     "metadata": {},
     "output_type": "execute_result"
    }
   ],
   "source": [
    "dir(Employee)"
   ]
  },
  {
   "cell_type": "code",
   "execution_count": 14,
   "metadata": {},
   "outputs": [
    {
     "data": {
      "text/plain": [
       "3.0"
      ]
     },
     "execution_count": 14,
     "metadata": {},
     "output_type": "execute_result"
    }
   ],
   "source": [
    "Employee.raise_amount"
   ]
  },
  {
   "cell_type": "code",
   "execution_count": 18,
   "metadata": {},
   "outputs": [
    {
     "name": "stdout",
     "output_type": "stream",
     "text": [
      "1990년 08월 29일생 남성입니다.\n",
      "2005년 12월 24일생 여성입니다.\n"
     ]
    }
   ],
   "source": [
    "class Person(object):\n",
    "    def __init__(self, year, month, day, sex):\n",
    "        self.year = year\n",
    "        self.month = month\n",
    "        self.day = day\n",
    "        self.sex = sex\n",
    "        \n",
    "    def __str__(self):\n",
    "        return '{}년 {}월 {}일생 {}입니다.'.format(self.year, self.month, self.day, self.sex)\n",
    "    \n",
    "ssn_1 = '900829-1034356'\n",
    "ssn_2 = '051224-4061569'\n",
    "\n",
    "def ssn_parser(ssn):\n",
    "        front, back = ssn.split('-')\n",
    "        sex = back[0]\n",
    "        \n",
    "        if sex == '1' or sex == '2':\n",
    "            year = '19' + front[:2]\n",
    "        else:\n",
    "            year = '20' + front[:2]\n",
    "            \n",
    "        if (int(sex) % 2) == 0:\n",
    "            sex = '여성'\n",
    "        else:\n",
    "            sex = '남성'\n",
    "            \n",
    "        month = front[2:4]\n",
    "        day = front[4:6]\n",
    "        \n",
    "        return year, month, day, sex\n",
    "\n",
    "person_1 = Person(*ssn_parser(ssn_1))\n",
    "print(person_1)\n",
    "\n",
    "person_2 = Person(*ssn_parser(ssn_2))\n",
    "print(person_2)"
   ]
  },
  {
   "cell_type": "markdown",
   "metadata": {},
   "source": [
    "클래스 메소드 사용하기"
   ]
  },
  {
   "cell_type": "code",
   "execution_count": 28,
   "metadata": {},
   "outputs": [
    {
     "name": "stdout",
     "output_type": "stream",
     "text": [
      "1990년 08월 29일생 남성입니다.\n",
      "2005년 12월 24일생 여성입니다.\n"
     ]
    }
   ],
   "source": [
    "class Person(object):\n",
    "    def __init__(self, year, month, day, sex):\n",
    "        self.year = year\n",
    "        self.month = month\n",
    "        self.day = day\n",
    "        self.sex = sex\n",
    "        \n",
    "    def __str__(self):\n",
    "        return '{}년 {}월 {}일생 {}입니다.'.format(self.year, self.month, self.day, self.sex)\n",
    "    \n",
    "    @classmethod\n",
    "    def ssn_constructor(cls, ssn): # <<-------- cls 선언\n",
    "        front, back = ssn.split('-')\n",
    "        sex = back[0]\n",
    "        \n",
    "        if sex == '1' or sex == '2':\n",
    "            year = '19' + front[:2]\n",
    "        else:\n",
    "            year = '20' + front[:2]\n",
    "            \n",
    "        if (int(sex) % 2) == 0:\n",
    "            sex = '여성'\n",
    "        else:\n",
    "            sex = '남성'\n",
    "            \n",
    "        month = front[2:4]\n",
    "        day = front[4:6]\n",
    "        \n",
    "        return cls(year, month, day, sex)\n",
    "    \n",
    "ssn_1 = '900829-1034356'\n",
    "ssn_2 = '051224-4061569'\n",
    "\n",
    "person_1 = Person.ssn_constructor(ssn_1)\n",
    "print(person_1)\n",
    "\n",
    "person_2 = Person.ssn_constructor(ssn_2)\n",
    "print(person_2)"
   ]
  },
  {
   "cell_type": "markdown",
   "metadata": {},
   "source": [
    "---"
   ]
  },
  {
   "cell_type": "markdown",
   "metadata": {},
   "source": [
    "스태틱 메서드"
   ]
  },
  {
   "cell_type": "code",
   "execution_count": 30,
   "metadata": {},
   "outputs": [
    {
     "name": "stdout",
     "output_type": "stream",
     "text": [
      "1990년 08월 29일생 남성입니다.\n",
      "2005년 12월 24일생 여성입니다.\n",
      "True\n",
      "True\n"
     ]
    }
   ],
   "source": [
    "class Person(object):\n",
    "    \n",
    "    my_class_var = 'sanghee'\n",
    "    \n",
    "    def __init__(self, year, month, day, sex):\n",
    "        self.year = year\n",
    "        self.month = month\n",
    "        self.day = day\n",
    "        self.sex = sex\n",
    "        \n",
    "    def __str__(self):\n",
    "        return '{}년 {}월 {}일생 {}입니다.'.format(self.year, self.month, self.day, self.sex)\n",
    "    \n",
    "    @classmethod\n",
    "    def ssn_constructor(cls, ssn):\n",
    "        front, back = ssn.split('-')\n",
    "        sex = back[0]\n",
    "        \n",
    "        if sex == '1' or sex == '2':\n",
    "            year = '19' + front[:2]\n",
    "        else:\n",
    "            year = '20' + front[:2]\n",
    "            \n",
    "        if (int(sex) % 2) == 0:\n",
    "            sex = '여성'\n",
    "        else:\n",
    "            sex = '남성'\n",
    "            \n",
    "        month = front[2:4]\n",
    "        day = front[4:6]\n",
    "        \n",
    "        return cls(year, month, day, sex)\n",
    "    \n",
    "    @staticmethod\n",
    "    def is_work_day(day):\n",
    "        # weekday() 함수의 리턴값은\n",
    "        # 월: 0, 화: 1, 수: 2, 목: 3, 금: 4, 토: 5, 일: 6\n",
    "        if day.weekday() == 5 or day.weekday() == 6:\n",
    "            return False\n",
    "        return True\n",
    "    \n",
    "ssn_1 = '900829-1034356'\n",
    "ssn_2 = '051224-4061569'\n",
    "\n",
    "person_1 = Person.ssn_constructor(ssn_1)\n",
    "print(person_1)\n",
    "\n",
    "person_2 = Person.ssn_constructor(ssn_2)\n",
    "print(person_2)\n",
    "\n",
    "import datetime\n",
    "# 일요일 날짜 오브젝트 생성\n",
    "my_date = datetime.date(2020, 3, 9)\n",
    "\n",
    "# 클래스를 통하여 스태틱 메소드 호출\n",
    "print(Person.is_work_day(my_date))\n",
    "# 인스턴스를 통하여 스태틱 메소드 호출\n",
    "print(person_1.is_work_day(my_date))"
   ]
  },
  {
   "cell_type": "markdown",
   "metadata": {},
   "source": [
    "---"
   ]
  },
  {
   "cell_type": "code",
   "execution_count": 34,
   "metadata": {},
   "outputs": [
    {
     "name": "stdout",
     "output_type": "stream",
     "text": [
      "이름: Goblin\n",
      "등급: 병사\n",
      "사이즈: small\n",
      "라이프: 100\n"
     ]
    }
   ],
   "source": [
    "class Unit(object):\n",
    "    def __init__(self, rank, size, life):\n",
    "        self.name = self.__class__.__name__\n",
    "        self.rank = rank\n",
    "        self.size = size\n",
    "        self.life = life\n",
    "        \n",
    "    def show_status(self):\n",
    "        print('이름: {}'.format(self.name))\n",
    "        print('등급: {}'.format(self.rank))\n",
    "        print('사이즈: {}'.format(self.size))\n",
    "        print('라이프: {}'.format(self.life))\n",
    "        \n",
    "class Goblin(Unit): #<<-------Unit 상속 받음\n",
    "    pass\n",
    "\n",
    "goblin_1 = Goblin('병사','small',100)\n",
    "goblin_1.show_status()"
   ]
  },
  {
   "cell_type": "code",
   "execution_count": 35,
   "metadata": {},
   "outputs": [
    {
     "name": "stdout",
     "output_type": "stream",
     "text": [
      "{'__module__': '__main__', '__doc__': None}\n"
     ]
    }
   ],
   "source": [
    "print(Goblin.__dict__)"
   ]
  },
  {
   "cell_type": "markdown",
   "metadata": {},
   "source": [
    "show_status가 없음."
   ]
  },
  {
   "cell_type": "code",
   "execution_count": 36,
   "metadata": {},
   "outputs": [
    {
     "name": "stdout",
     "output_type": "stream",
     "text": [
      "Help on class Goblin in module __main__:\n",
      "\n",
      "class Goblin(Unit)\n",
      " |  Goblin(rank, size, life)\n",
      " |  \n",
      " |  Method resolution order:\n",
      " |      Goblin\n",
      " |      Unit\n",
      " |      builtins.object\n",
      " |  \n",
      " |  Methods inherited from Unit:\n",
      " |  \n",
      " |  __init__(self, rank, size, life)\n",
      " |      Initialize self.  See help(type(self)) for accurate signature.\n",
      " |  \n",
      " |  show_status(self)\n",
      " |  \n",
      " |  ----------------------------------------------------------------------\n",
      " |  Data descriptors inherited from Unit:\n",
      " |  \n",
      " |  __dict__\n",
      " |      dictionary for instance variables (if defined)\n",
      " |  \n",
      " |  __weakref__\n",
      " |      list of weak references to the object (if defined)\n",
      "\n",
      "None\n"
     ]
    }
   ],
   "source": [
    "print(help(Goblin))"
   ]
  },
  {
   "cell_type": "markdown",
   "metadata": {},
   "source": [
    "Unit에서 init과 show_status를 상속 받음"
   ]
  },
  {
   "cell_type": "code",
   "execution_count": 37,
   "metadata": {},
   "outputs": [
    {
     "name": "stdout",
     "output_type": "stream",
     "text": [
      "['__class__', '__delattr__', '__dict__', '__dir__', '__doc__', '__eq__', '__format__', '__ge__', '__getattribute__', '__gt__', '__hash__', '__init__', '__init_subclass__', '__le__', '__lt__', '__module__', '__ne__', '__new__', '__reduce__', '__reduce_ex__', '__repr__', '__setattr__', '__sizeof__', '__str__', '__subclasshook__', '__weakref__', 'show_status']\n"
     ]
    }
   ],
   "source": [
    "print(dir(Goblin))"
   ]
  },
  {
   "cell_type": "markdown",
   "metadata": {},
   "source": [
    "고블린에게 공격속성을 추가하기 위해 <br>\n",
    "\n",
    "super함수를 이용하여 오버라이드 해보자."
   ]
  },
  {
   "cell_type": "code",
   "execution_count": 38,
   "metadata": {},
   "outputs": [
    {
     "name": "stdout",
     "output_type": "stream",
     "text": [
      "이름: Goblin\n",
      "등급: 병사\n",
      "사이즈: Small\n",
      "라이프: 100\n",
      "공격 타입: 근접 공격\n"
     ]
    }
   ],
   "source": [
    "class Unit(object):\n",
    "    def __init__(self, rank, size, life):\n",
    "        self.name = self.__class__.__name__\n",
    "        self.rank = rank\n",
    "        self.size = size\n",
    "        self.life = life\n",
    "        \n",
    "    def show_status(self):\n",
    "        print('이름: {}'.format(self.name))\n",
    "        print('등급: {}'.format(self.rank))\n",
    "        print('사이즈: {}'.format(self.size))\n",
    "        print('라이프: {}'.format(self.life))\n",
    "\n",
    "class Goblin(Unit):\n",
    "    def __init__(self,rank,size,life,attack_type):\n",
    "        super(Goblin, self).__init__(rank, size, life)\n",
    "        self.attack_type = attack_type\n",
    "        \n",
    "    def show_status(self):\n",
    "        super(Goblin, self).show_status()\n",
    "        print('공격 타입: {}'.format(self.attack_type))\n",
    "        \n",
    "goblin_1 = Goblin('병사', 'Small', 100, '근접 공격')\n",
    "\n",
    "goblin_1.show_status()"
   ]
  },
  {
   "cell_type": "markdown",
   "metadata": {},
   "source": [
    "고블린을 상속 받는 또다른 창 고블린을 만들어보자"
   ]
  },
  {
   "cell_type": "code",
   "execution_count": 40,
   "metadata": {},
   "outputs": [
    {
     "name": "stdout",
     "output_type": "stream",
     "text": [
      "이름: SphereGoblin\n",
      "등급: 병사\n",
      "사이즈: Small\n",
      "라이프: 100\n",
      "공격 타입: 레인지 공격\n",
      "데미지: 10\n",
      "창 타입: 긴 창\n"
     ]
    }
   ],
   "source": [
    "class Unit(object):\n",
    "    def __init__(self, rank, size, life):\n",
    "        self.name = self.__class__.__name__\n",
    "        self.rank = rank\n",
    "        self.size = size\n",
    "        self.life = life\n",
    "        \n",
    "    def show_status(self):\n",
    "        print('이름: {}'.format(self.name))\n",
    "        print('등급: {}'.format(self.rank))\n",
    "        print('사이즈: {}'.format(self.size))\n",
    "        print('라이프: {}'.format(self.life))\n",
    "        \n",
    "class Goblin(Unit):\n",
    "    def __init__(self, rank, size, life, attack_type, damage):\n",
    "        super(Goblin, self).__init__(rank, size, life)\n",
    "        self.attack_type = attack_type\n",
    "        self.damage = damage\n",
    "        \n",
    "    def show_status(self):\n",
    "        super(Goblin, self).show_status()\n",
    "        # 오버라이드 메소드\n",
    "        print('공격 타입: {}'.format(self.attack_type))\n",
    "        print ('데미지: {}'.format(self.damage))\n",
    "        \n",
    "    # 공격 메소드 추가\n",
    "    def attack(self):\n",
    "        print('[{}]이 공격합니다! 상대방 데미지({})'.format(self.name, self.damage))\n",
    "        \n",
    "class SphereGoblin(Goblin):\n",
    "    def __init__(self, rank, size, life, attack_type, damage, sphere_type):\n",
    "        super(SphereGoblin, self).__init__(rank, size, life, attack_type, damage)\n",
    "        self.sphere_type = sphere_type\n",
    "        \n",
    "    def show_status(self):\n",
    "        super(SphereGoblin, self).show_status()\n",
    "        print('창 타입: {}'.format(self.sphere_type))\n",
    "        \n",
    "sphere_goblin_1 = SphereGoblin('병사', 'Small', 100, '레인지 공격', 10, '긴 창')\n",
    "sphere_goblin_1.show_status()"
   ]
  },
  {
   "cell_type": "markdown",
   "metadata": {},
   "source": [
    "인스턴스 확인법"
   ]
  },
  {
   "cell_type": "code",
   "execution_count": 42,
   "metadata": {},
   "outputs": [
    {
     "data": {
      "text/plain": [
       "True"
      ]
     },
     "execution_count": 42,
     "metadata": {},
     "output_type": "execute_result"
    }
   ],
   "source": [
    "isinstance(sphere_goblin_1,SphereGoblin)"
   ]
  },
  {
   "cell_type": "markdown",
   "metadata": {},
   "source": [
    "고블린을 거느리는 영웅 만들기"
   ]
  },
  {
   "cell_type": "code",
   "execution_count": 54,
   "metadata": {},
   "outputs": [
    {
     "name": "stdout",
     "output_type": "stream",
     "text": [
      "# 새로운 고블린 추가 전\n",
      "현재 영웅이 소유한 고블린은 3명, 창 고블린은 1명입니다.\n",
      "[Goblin]이 공격합니다! 상대방 데미지(15)\n",
      "[Goblin]이 공격합니다! 상대방 데미지(15)\n",
      "[SphereGoblin]이 공격합니다! 상대방 데미지(10)\n",
      "\n",
      "# 새로운 고블린 추가 후\n",
      "현재 영웅이 소유한 고블린은 5명, 창 고블린은 2명입니다.\n",
      "[Goblin]이 공격합니다! 상대방 데미지(15)\n",
      "[Goblin]이 공격합니다! 상대방 데미지(15)\n",
      "[SphereGoblin]이 공격합니다! 상대방 데미지(10)\n",
      "[Goblin]이 공격합니다! 상대방 데미지(20)\n",
      "[SphereGoblin]이 공격합니다! 상대방 데미지(5)\n",
      "\n",
      "# 추가한 고블린 삭제 후\n",
      "현재 영웅이 소유한 고블린은 3명, 창 고블린은 1명입니다.\n",
      "[Goblin]이 공격합니다! 상대방 데미지(15)\n",
      "[Goblin]이 공격합니다! 상대방 데미지(15)\n",
      "[SphereGoblin]이 공격합니다! 상대방 데미지(10)\n",
      "\n",
      "# 에러 메세지 발생\n",
      "이미 있음\n",
      "소유하고 있지 않음\n"
     ]
    }
   ],
   "source": [
    "class Hero(Unit):\n",
    "    def __init__(self, rank, size, life, goblins = None):\n",
    "        super(Hero, self).__init__(rank, size, life)\n",
    "        \n",
    "        if goblins is None:\n",
    "            self.goblins = []\n",
    "        else:\n",
    "            self.goblins = goblins\n",
    "            \n",
    "    def show_own_goblins(self):\n",
    "        num_of_goblins = len([x for x in self.goblins if isinstance(x,Goblin)])\n",
    "        num_of_sphere_goblins = len([x for x in self.goblins if isinstance(x,SphereGoblin)])\n",
    "        print('현재 영웅이 소유한 고블린은 {}명, 창 고블린은 {}명입니다.'.format(num_of_goblins, num_of_sphere_goblins))\n",
    "        \n",
    "    def make_goblins_attack(self):\n",
    "        for goblin in self.goblins:\n",
    "            goblin.attack()\n",
    "            \n",
    "    def add_goblins(self, new_goblins):\n",
    "        for goblin in new_goblins:\n",
    "            if goblin not in self.goblins:\n",
    "                self.goblins.append(goblin)\n",
    "            else:\n",
    "                print('이미 있음')\n",
    "                \n",
    "    def remove_goblins(self, old_goblins):\n",
    "        for goblin in old_goblins:\n",
    "            try:\n",
    "                self.goblins.remove(goblin)\n",
    "            except:\n",
    "                print('소유하고 있지 않음')\n",
    "                \n",
    "            \n",
    "# 고블린 오브젝트 생성\n",
    "goblin_1 = Goblin('병사', 'Small', 100, '근접 공격', 15)\n",
    "goblin_2 = Goblin('병사', 'Small', 100, '근접 공격', 15)\n",
    "sphere_goblin_1 = SphereGoblin('병사', 'Small', 100, '레인지 공격', 10, '긴 창')\n",
    "        \n",
    "# 영웅 오브젝트 생성 후, 고블린 오브젝트 할당       \n",
    "hero_1 = Hero('영웅', 'Big', 300, [goblin_1, goblin_2, sphere_goblin_1])\n",
    "\n",
    "# 새로운 고블린 생성\n",
    "goblin_3 = Goblin('병사', 'Small', 100, '근접 공격', 20)\n",
    "sphere_goblin_2 = SphereGoblin('병사', 'Small', 100, '레인지 공격', 5, '긴 창')\n",
    "\n",
    "print('# 새로운 고블린 추가 전')\n",
    "hero_1.show_own_goblins()\n",
    "hero_1.make_goblins_attack()\n",
    "\n",
    "# 새로운 고블린 추가\n",
    "hero_1.add_goblins([goblin_3, sphere_goblin_2])\n",
    "\n",
    "print('\\n# 새로운 고블린 추가 후')\n",
    "hero_1.show_own_goblins()\n",
    "hero_1.make_goblins_attack()\n",
    "\n",
    "# 추가한 고블린 삭제\n",
    "hero_1.remove_goblins([goblin_3, sphere_goblin_2])\n",
    "\n",
    "print('\\n# 추가한 고블린 삭제 후')\n",
    "hero_1.show_own_goblins()\n",
    "hero_1.make_goblins_attack()\n",
    "\n",
    "# 영웅에게 소유되지 않은 고블린 생성\n",
    "goblin_4 = Goblin('병사', 'Small', 100, '근접 공격', 20)\n",
    "\n",
    "# 이미 소유한 고블린 추가\n",
    "print('\\n# 에러 메세지 발생')\n",
    "hero_1.add_goblins([goblin_1])\n",
    "hero_1.remove_goblins([goblin_4])"
   ]
  },
  {
   "cell_type": "markdown",
   "metadata": {},
   "source": [
    "---"
   ]
  },
  {
   "cell_type": "markdown",
   "metadata": {},
   "source": [
    "매직 메소드 : 클래스 안에 정의할 수 있는 스페셜 메소드이며 클래스를 int,str,list등 파이썬의 빌트인 타입과 같은 작동을 하게 해준다."
   ]
  },
  {
   "cell_type": "code",
   "execution_count": 56,
   "metadata": {},
   "outputs": [
    {
     "name": "stdout",
     "output_type": "stream",
     "text": [
      "이름: Pink, 나이: 12\n"
     ]
    }
   ],
   "source": [
    "class Dog(object):\n",
    "    def __init__(self, name, age):\n",
    "        print('이름: {}, 나이: {}'.format(name, age))\n",
    "        \n",
    "dog_1 = Dog('Pink','12')"
   ]
  },
  {
   "cell_type": "code",
   "execution_count": 63,
   "metadata": {},
   "outputs": [
    {
     "name": "stdout",
     "output_type": "stream",
     "text": [
      "<class '__main__.MyInt'>\n",
      "True\n",
      "(<class 'int'>,)\n",
      "10\n",
      "10\n"
     ]
    }
   ],
   "source": [
    "# int를 부모 클래스로 가진 새로운 클래스 생성\n",
    "class MyInt(int):\n",
    "    pass\n",
    "\n",
    "# 인스턴스 생성\n",
    "my_num = MyInt(5)\n",
    "\n",
    "# 타입 확인\n",
    "print(type(my_num))  # => <class '__main__.MyInt'>\n",
    "\n",
    "# int의 인스턴스인지 확인\n",
    "print(isinstance(my_num, int))  # => True\n",
    "\n",
    "# MyInt의 베이스 클래스 확인\n",
    "print(MyInt.__bases__)  # => (<type 'int'>,)\n",
    "\n",
    "# 덧샘 실행\n",
    "print(my_num + 5)  # => 10\n",
    "\n",
    "# 매직 메소드를 직접 호출\n",
    "print(my_num.__add__(5))  # => 10"
   ]
  },
  {
   "cell_type": "code",
   "execution_count": 61,
   "metadata": {},
   "outputs": [
    {
     "name": "stdout",
     "output_type": "stream",
     "text": [
      "['__abs__', '__add__', '__and__', '__bool__', '__ceil__', '__class__', '__delattr__', '__dict__', '__dir__', '__divmod__', '__doc__', '__eq__', '__float__', '__floor__', '__floordiv__', '__format__', '__ge__', '__getattribute__', '__getnewargs__', '__gt__', '__hash__', '__index__', '__init__', '__init_subclass__', '__int__', '__invert__', '__le__', '__lshift__', '__lt__', '__mod__', '__module__', '__mul__', '__ne__', '__neg__', '__new__', '__or__', '__pos__', '__pow__', '__radd__', '__rand__', '__rdivmod__', '__reduce__', '__reduce_ex__', '__repr__', '__rfloordiv__', '__rlshift__', '__rmod__', '__rmul__', '__ror__', '__round__', '__rpow__', '__rrshift__', '__rshift__', '__rsub__', '__rtruediv__', '__rxor__', '__setattr__', '__sizeof__', '__str__', '__sub__', '__subclasshook__', '__truediv__', '__trunc__', '__xor__', 'bit_length', 'conjugate', 'denominator', 'from_bytes', 'imag', 'numerator', 'real', 'to_bytes']\n"
     ]
    }
   ],
   "source": [
    "# 매직 메소드를 가지고 있는지 확인\n",
    "print(dir(my_num))"
   ]
  },
  {
   "cell_type": "markdown",
   "metadata": {},
   "source": [
    "부모 int로부터 많은 매직 메소드를 상속받음"
   ]
  },
  {
   "cell_type": "code",
   "execution_count": 62,
   "metadata": {},
   "outputs": [
    {
     "data": {
      "text/plain": [
       "5"
      ]
     },
     "execution_count": 62,
     "metadata": {},
     "output_type": "execute_result"
    }
   ],
   "source": [
    "my_num.real"
   ]
  },
  {
   "cell_type": "code",
   "execution_count": 64,
   "metadata": {},
   "outputs": [
    {
     "name": "stdout",
     "output_type": "stream",
     "text": [
      "5 더하기 5 는 10 입니다\n"
     ]
    }
   ],
   "source": [
    "# -*- coding: utf-8 -*-\n",
    "\n",
    "# int를 부모 클래스로 가진 새로운 클래스 생성\n",
    "class MyInt(int):\n",
    "    # __add__ 변경\n",
    "    def __add__(self, other):\n",
    "        return '{} 더하기 {} 는 {} 입니다'.format(self.real, other.real, self.real + other.real)\n",
    "\n",
    "# 인스턴스 생성\n",
    "my_num = MyInt(5)\n",
    "\n",
    "print(my_num + 5)  # => 5 더하기 5 는 10 입니다"
   ]
  },
  {
   "cell_type": "code",
   "execution_count": 65,
   "metadata": {},
   "outputs": [
    {
     "name": "stdout",
     "output_type": "stream",
     "text": [
      "[1, 2, 3, 4, 5, 6]\n",
      "[1, 2, 3, 4, 5, 6]\n",
      "3\n",
      "3\n"
     ]
    }
   ],
   "source": [
    "# 리스트의 덧셈\n",
    "print([1,2,3] + [4,5,6])\n",
    "# 매직 메소드로 덧셈\n",
    "print([1,2,3].__add__([4,5,6]))\n",
    "\n",
    "# 사전의 길이 확인\n",
    "print(len({'one':1, 'two': 2, 'three': 3}))\n",
    "# 매직 메소드로 사전의 길이 확인\n",
    "print({'one':1, 'two': 2, 'three': 3}.__len__())"
   ]
  },
  {
   "cell_type": "code",
   "execution_count": 69,
   "metadata": {
    "scrolled": false
   },
   "outputs": [
    {
     "name": "stdout",
     "output_type": "stream",
     "text": [
      "<__main__.Food object at 0x000001CA10406128>\n"
     ]
    }
   ],
   "source": [
    "class Food(object):\n",
    "    def __init__(self, name, price):\n",
    "        self.name = name\n",
    "        self.price = price\n",
    "        \n",
    "food_1 = Food('아이스크림',3000)\n",
    "\n",
    "print(food_1)"
   ]
  },
  {
   "cell_type": "markdown",
   "metadata": {},
   "source": [
    "\\_\\_str__ 이라는 매직 메소드를 바꾼다."
   ]
  },
  {
   "cell_type": "code",
   "execution_count": 70,
   "metadata": {},
   "outputs": [
    {
     "name": "stdout",
     "output_type": "stream",
     "text": [
      "아이템: 아이스크림, 가격: 3000\n"
     ]
    }
   ],
   "source": [
    "class Food(object):\n",
    "    def __init__(self, name, price):\n",
    "        self.name = name\n",
    "        self.price = price\n",
    "        \n",
    "    def __str__(self):\n",
    "        return '아이템: {}, 가격: {}'.format(self.name, self.price)\n",
    "    \n",
    "food_1 = Food('아이스크림',3000)\n",
    "\n",
    "print(food_1)"
   ]
  }
 ],
 "metadata": {
  "kernelspec": {
   "display_name": "Python 3",
   "language": "python",
   "name": "python3"
  },
  "language_info": {
   "codemirror_mode": {
    "name": "ipython",
    "version": 3
   },
   "file_extension": ".py",
   "mimetype": "text/x-python",
   "name": "python",
   "nbconvert_exporter": "python",
   "pygments_lexer": "ipython3",
   "version": "3.7.3"
  }
 },
 "nbformat": 4,
 "nbformat_minor": 2
}
