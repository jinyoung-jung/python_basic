{
 "cells": [
  {
   "cell_type": "markdown",
   "metadata": {},
   "source": [
    "## 한글 자음 모음 분리되는 현상\n",
    "\n",
    "- 원인은 mac에서 넘어온 데이터의 인코딩 방식이 다르기 때문으로 추정\n",
    "- jupyter에서 확인할 때는 정상적으로 나옴\n",
    "- 엑셀에서 자음 모음 분리되서 보임\n",
    "- 문제는 정규표현식이 안먹힌다.\n",
    "- 따라서, 정제를 해줘야 된다.\n",
    "- 해결책은 normalize 사용하면 끝"
   ]
  },
  {
   "cell_type": "code",
   "execution_count": null,
   "metadata": {},
   "outputs": [],
   "source": [
    "from unicodedata import normalize\n",
    "\n",
    "new_content = normalize('NFC',content) #content에 자음 모음 분리되는 데이터 넣으면 됨"
   ]
  }
 ],
 "metadata": {
  "kernelspec": {
   "display_name": "Python 3",
   "language": "python",
   "name": "python3"
  },
  "language_info": {
   "codemirror_mode": {
    "name": "ipython",
    "version": 3
   },
   "file_extension": ".py",
   "mimetype": "text/x-python",
   "name": "python",
   "nbconvert_exporter": "python",
   "pygments_lexer": "ipython3",
   "version": "3.6.9"
  }
 },
 "nbformat": 4,
 "nbformat_minor": 4
}
