{
 "cells": [
  {
   "cell_type": "markdown",
   "metadata": {},
   "source": [
    "# part1 머신러닝"
   ]
  },
  {
   "cell_type": "markdown",
   "metadata": {},
   "source": [
    "## ch1 한눈에 보는 머신러닝"
   ]
  },
  {
   "cell_type": "markdown",
   "metadata": {},
   "source": [
    "### 1.1 머신러닝이란?"
   ]
  },
  {
   "cell_type": "markdown",
   "metadata": {},
   "source": [
    "- 훈련 데이터(training data): 시스템을 학습하는 데 사용하는 샘플\n",
    "- 정확도(accuracy): 성능 측정"
   ]
  },
  {
   "cell_type": "markdown",
   "metadata": {},
   "source": [
    "### 1.2 왜 머신러닝을 사용하는가?"
   ]
  },
  {
   "cell_type": "markdown",
   "metadata": {},
   "source": [
    "머신러닝 접근법"
   ]
  },
  {
   "attachments": {},
   "cell_type": "markdown",
   "metadata": {},
   "source": [
    "![image.png](images/1-1.PNG)"
   ]
  },
  {
   "cell_type": "markdown",
   "metadata": {},
   "source": [
    "자동화"
   ]
  },
  {
   "attachments": {},
   "cell_type": "markdown",
   "metadata": {},
   "source": [
    "![image.png](images/1-2.PNG)"
   ]
  },
  {
   "cell_type": "markdown",
   "metadata": {},
   "source": [
    "- 데이터 마이닝(data mining): 머신러닝 기술을 적용해서 대용량의 데이터를 분석하면 겉으로 보이지 않던 패턴을 발견하는 방식"
   ]
  },
  {
   "cell_type": "markdown",
   "metadata": {},
   "source": [
    "### 1.3 머신러닝 시스템의 종류"
   ]
  },
  {
   "cell_type": "markdown",
   "metadata": {},
   "source": [
    "#### 1.3.1 지도 학습과 비지도 학습"
   ]
  },
  {
   "cell_type": "markdown",
   "metadata": {},
   "source": [
    "> **지도 학습(supervised learning): 훈련 데이터에 레이블(label)이라는 원하는 답이 포함**\n",
    "\n",
    "- k-최근접 이웃\n",
    "- 선형 회귀\n",
    "- 로지스틱 호귀\n",
    "- 서포트 벡터 머신\n",
    "- 결정 트리와 랜덤 포레스트\n",
    "- 신경망"
   ]
  },
  {
   "cell_type": "markdown",
   "metadata": {},
   "source": [
    "> **비지도 학습(unsupervised learning): 레이블이 없음. 시스템이 아무런 도움 없이 학습**\n",
    "\n",
    "- 군집 : k-평균, 계층 군집 분석(HCA), 기댓값 최대화\n",
    "- 시각화와 차원 축소 : 주성분 분석(PCA), 커널PCA, 지역적 선형 임베딩(LLE), t-SNE\n",
    "- 연관 규칙 학습 : 어프라이어리, 이클렛"
   ]
  },
  {
   "cell_type": "markdown",
   "metadata": {},
   "source": [
    "<비지도 학습 기타>\n",
    "- 계층군집 알고리즘을 사용하면 각 그룹을 더 작은 그룹으로 세분화\n",
    "- 시각화 알고리즘도 비지도 학습 알고리즘의 좋은 예\n",
    "- 머신러닝 알고리즘 주입 전에 차원 축소하는게 좋음\n",
    "- 이상치 탐지도 있음\n",
    "- 대량의 데이터에서 특성 간의 흥미로운 관계를 차는 연관 규칙 학습도 있음"
   ]
  },
  {
   "cell_type": "markdown",
   "metadata": {},
   "source": [
    "> **준지도 학습: 데이블이 일부만 있는 데이터를 다룸. 보통은 레이블이 없는 데이터가 많고 레이블이 있는 데이터는 아주 조금**\n",
    "\n",
    "- 심층 신뢰 신경망(DBN)은 여러 겹으로 쌓은 제한된 볼츠만 머신(RBM)이라 불리는 비지도 학습에 기초함"
   ]
  },
  {
   "cell_type": "markdown",
   "metadata": {},
   "source": [
    "#### 1.3.2 배치 학습과 온라인 학습"
   ]
  },
  {
   "cell_type": "markdown",
   "metadata": {},
   "source": [
    "> **배치 학습**\n",
    "\n",
    "- 점진적으로 학습할 수 없음\n",
    "- 가용한 데이터 모두 사용해 훈련\n",
    "- 시간과 자원을 많이 소모해 오프라인에서 사용\n",
    "- 간단하고 잘 작동되지만 자주 훈련시켜야 함"
   ]
  },
  {
   "cell_type": "markdown",
   "metadata": {},
   "source": [
    "> **온라인 학습**\n",
    "\n",
    "- 데이터를 순차적으로 한 개씩 또는 미니배치라 부르는 작은 묶음 단위로 주입하여 시스템을 훈련\n",
    "- 학습 단계가 빠르고 비용이 적게 들음\n",
    "- 학습률 : 변화하는 데이터에 얼마나 빠르게 적응할 것인지 나타냄. 높으면 빠르게 적응하지만 예전 데이터를 금방 잊음\n",
    "- 나쁜 데이터가 주입되면 성능이 점진적으로 떨어짐"
   ]
  },
  {
   "cell_type": "markdown",
   "metadata": {},
   "source": [
    "#### 1.3.3 사례 기반 학습과 모델 기반 학습"
   ]
  },
  {
   "cell_type": "markdown",
   "metadata": {},
   "source": [
    "> **사례 기반 학습**\n",
    "\n",
    "- 학습된 데이터와 동일한 데이터를 분류\n",
    "- 유사도를 측정하여 분류"
   ]
  },
  {
   "cell_type": "markdown",
   "metadata": {},
   "source": [
    "> **모델 기반 학습**\n",
    "\n",
    "- 샘플들의 모델을 만들어 예측에 사용\n",
    "- 효용 함수 : 모델이 얼마나 좋은지 측정하는 함수 = 적합도 함수\n",
    "- 비용 함수 : 모델이 얼마나 나쁜지\n",
    "- 선형 회귀에서는 보통 비용 함수를 사용 거리를 최소화하는 것을 목표"
   ]
  },
  {
   "cell_type": "markdown",
   "metadata": {},
   "source": [
    "### 1.4 머신러닝의 주요 도전 과제"
   ]
  },
  {
   "cell_type": "markdown",
   "metadata": {},
   "source": [
    "나쁜 데이터와 나쁜 알고리즘을 조심해야 한다."
   ]
  },
  {
   "cell_type": "markdown",
   "metadata": {},
   "source": [
    "#### 1.4.1 충분하지 않은 양의 훈련 데이터"
   ]
  },
  {
   "cell_type": "markdown",
   "metadata": {},
   "source": [
    "머신러닝 알고리즘이 잘 작동하려면 충분이 많은 데이터가 필요함. 수천 개 이상으로 많이."
   ]
  },
  {
   "cell_type": "markdown",
   "metadata": {},
   "source": [
    "#### 1.4.2 대표성 없는 훈련 데이터"
   ]
  },
  {
   "cell_type": "markdown",
   "metadata": {},
   "source": [
    "모델이 일반화되기 위해서 훈련 데이터에 새로운 사례가 잘 대표되야 함. 훈련 데이터에 누락된 데이터를 추가하면 모델이 크게 변경됨"
   ]
  },
  {
   "cell_type": "markdown",
   "metadata": {},
   "source": [
    "- 샘플링 잡음 : 샘플이 작으면\n",
    "- 샘플링 편향 : 대표성이 없으면"
   ]
  },
  {
   "cell_type": "markdown",
   "metadata": {},
   "source": [
    "#### 1.4.3 낮은 품질의 데이터"
   ]
  },
  {
   "cell_type": "markdown",
   "metadata": {},
   "source": [
    "훈련 데이터가 에러, 이상치, 잡음이 많으면 안됨"
   ]
  },
  {
   "cell_type": "markdown",
   "metadata": {},
   "source": [
    "#### 1.4.4 관련 없는 특성"
   ]
  },
  {
   "cell_type": "markdown",
   "metadata": {},
   "source": [
    "훈련 데이터에 관련 없는 특성을 최소화해야 함"
   ]
  },
  {
   "cell_type": "markdown",
   "metadata": {},
   "source": [
    "#### 1.4.5 훈련 데이터 과대적합"
   ]
  },
  {
   "cell_type": "markdown",
   "metadata": {},
   "source": [
    "- 과대적합: 모델이 훈련 데이터에 너무 잘 맞지만 일반성이 떨어지는 현상\n",
    "\n",
    "> **해결 방법**\n",
    "\n",
    "- 파라미터 수가 적은 모델을 선택하거나 훈련 데이터에 있는 특성 수를 줄이거나, 모델에 제약을 가하여 단순화\n",
    "- 훈련 데이터를 더 많이 모은다.\n",
    "- 훈련 데이터의 잡음을 주인다.(예: 오류수정, 이상치 제거)"
   ]
  },
  {
   "cell_type": "markdown",
   "metadata": {},
   "source": [
    "학습하는 동안 적용할 규제의 양은 하이퍼파라미터가 결정\n",
    "\n",
    "- 하이퍼파라미터는 학습 알고리즘의 파라미터\n",
    "- 학습 알고리즘 영향을 받지 않음\n",
    "- 값이 클 수록 기울기가 0에 가까워짐. 과대적합 가능성 줄이지만 좋은 모델 찾기 힘듬"
   ]
  },
  {
   "cell_type": "markdown",
   "metadata": {},
   "source": [
    "#### 1.4.6 훈련 데이터 과소적합"
   ]
  },
  {
   "cell_type": "markdown",
   "metadata": {},
   "source": [
    "- 과대적합 반대\n",
    "- 모델이 너무 단순해서 데이터의 내재된 구조를 학습하지 못할 때\n",
    "\n",
    "> **해결 방법**\n",
    "\n",
    "- 모델 파라미터가 더 많은 강력한 모델을 선정\n",
    "- 학습 알고리즘에 더 좋은 특성을 제공\n",
    "- 모델의 제약을 줄임(예:하이퍼파라미터 줄임)"
   ]
  },
  {
   "cell_type": "markdown",
   "metadata": {},
   "source": [
    "### 1.5 테스트와 검증"
   ]
  },
  {
   "cell_type": "markdown",
   "metadata": {},
   "source": [
    "- 훈련 세트, 검증 세트, 테스트 세트\n",
    "- 훈련 세트를 사용해 다양한 하이퍼파라미터로 여러 모델을 훈련시켜 검증 세트에서 최상의 성능을 내는 모델 선택\n",
    "- 훈련 데이터에서 검증 세트로 너무 많은 양의 데이터를 뺏기지 않기 위해 일반적으로 교차 검증 기법을 사용\n",
    "- **교차 검증** : 훈련 세트를 여러 서브세으로 나누고 각 모델을 이 서브세의 조합으로 훈련시키고 나머지 부분을 검증하는 방식"
   ]
  }
 ],
 "metadata": {
  "kernelspec": {
   "display_name": "Python 3",
   "language": "python",
   "name": "python3"
  },
  "language_info": {
   "codemirror_mode": {
    "name": "ipython",
    "version": 3
   },
   "file_extension": ".py",
   "mimetype": "text/x-python",
   "name": "python",
   "nbconvert_exporter": "python",
   "pygments_lexer": "ipython3",
   "version": "3.7.4"
  }
 },
 "nbformat": 4,
 "nbformat_minor": 2
}
